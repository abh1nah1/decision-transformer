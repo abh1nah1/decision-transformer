{
 "cells": [
  {
   "cell_type": "markdown",
   "metadata": {
    "colab_type": "text",
    "id": "view-in-github"
   },
   "source": [
    "<a href=\"https://colab.research.google.com/github/abh1nah1/decision-transformer/blob/master/DSC550_DecisionTransformer_RL.ipynb\" target=\"_parent\"><img src=\"https://colab.research.google.com/assets/colab-badge.svg\" alt=\"Open In Colab\"/></a>"
   ]
  },
  {
   "cell_type": "code",
   "execution_count": null,
   "metadata": {
    "id": "UMwVrVV-MCSK"
   },
   "outputs": [],
   "source": [
    "# prompt: write code to initiate and configurate a model using the decision transformer model from the transformers library\n",
    "\n",
    "# Initializing a DecisionTransformer configuration with specific parameters\n",
    "configuration = DecisionTransformerConfig(\n",
    "    num_layers=6,\n",
    "    d_model=32,\n",
    "    d_ff=128,\n",
    "    num_heads=8,\n",
    "    dropout=0.1,\n",
    "    bos_token_id=0,\n",
    "    eos_token_id=1,\n",
    "    pad_token_id=2,\n",
    ")\n",
    "\n",
    "# Initializing a model (with random weights) from the configuration\n",
    "model = DecisionTransformerModel(configuration)\n",
    "\n",
    "# Accessing the model configuration\n",
    "configuration = model.config\n"
   ]
  },
  {
   "cell_type": "code",
   "execution_count": null,
   "metadata": {
    "id": "6bsGCdhoYU-v"
   },
   "outputs": [],
   "source": [
    "from transformers import DecisionTransformerModel, DecisionTransformerConfig,"
   ]
  },
  {
   "cell_type": "code",
   "execution_count": null,
   "metadata": {
    "id": "8xSEQUKswY8u"
   },
   "outputs": [],
   "source": [
    "# Initializing a DecisionTransformer configuration\n",
    "configuration = DecisionTransformerConfig()\n",
    "\n",
    "# Initializing a model (with random weights) from the configuration\n",
    "model = DecisionTransformerModel(configuration)\n",
    "\n",
    "# Accessing the model configuration\n",
    "configuration = model.config"
   ]
  },
  {
   "cell_type": "code",
   "execution_count": null,
   "metadata": {
    "id": "ZK1KmbMVxAq4"
   },
   "outputs": [],
   "source": [
    "conda env create -f conda"
   ]
  },
  {
   "cell_type": "code",
   "execution_count": null,
   "metadata": {
    "id": "JOExA5KlxrKT"
   },
   "outputs": [],
   "source": [
    "from google.colab import drive\n",
    "drive.mount('/content/drive')"
   ]
  }
 ],
 "metadata": {
  "colab": {
   "authorship_tag": "ABX9TyNe5I4OnEVq2QQz+BKlo4xz",
   "include_colab_link": true,
   "provenance": []
  },
  "kernelspec": {
   "display_name": "Python 3 (ipykernel)",
   "language": "python",
   "name": "python3"
  },
  "language_info": {
   "codemirror_mode": {
    "name": "ipython",
    "version": 3
   },
   "file_extension": ".py",
   "mimetype": "text/x-python",
   "name": "python",
   "nbconvert_exporter": "python",
   "pygments_lexer": "ipython3",
   "version": "3.10.9"
  }
 },
 "nbformat": 4,
 "nbformat_minor": 1
}
