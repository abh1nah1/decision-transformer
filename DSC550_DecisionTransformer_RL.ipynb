{
  "nbformat": 4,
  "nbformat_minor": 0,
  "metadata": {
    "colab": {
      "provenance": [],
      "authorship_tag": "ABX9TyNe5I4OnEVq2QQz+BKlo4xz",
      "include_colab_link": true
    },
    "kernelspec": {
      "name": "python3",
      "display_name": "Python 3"
    },
    "language_info": {
      "name": "python"
    }
  },
  "cells": [
    {
      "cell_type": "markdown",
      "metadata": {
        "id": "view-in-github",
        "colab_type": "text"
      },
      "source": [
        "<a href=\"https://colab.research.google.com/github/abh1nah1/decision-transformer/blob/master/DSC550_DecisionTransformer_RL.ipynb\" target=\"_parent\"><img src=\"https://colab.research.google.com/assets/colab-badge.svg\" alt=\"Open In Colab\"/></a>"
      ]
    },
    {
      "cell_type": "code",
      "source": [
        "# prompt: write code to initiate and configurate a model using the decision transformer model from the transformers library\n",
        "\n",
        "# Initializing a DecisionTransformer configuration with specific parameters\n",
        "configuration = DecisionTransformerConfig(\n",
        "    num_layers=6,\n",
        "    d_model=32,\n",
        "    d_ff=128,\n",
        "    num_heads=8,\n",
        "    dropout=0.1,\n",
        "    bos_token_id=0,\n",
        "    eos_token_id=1,\n",
        "    pad_token_id=2,\n",
        ")\n",
        "\n",
        "# Initializing a model (with random weights) from the configuration\n",
        "model = DecisionTransformerModel(configuration)\n",
        "\n",
        "# Accessing the model configuration\n",
        "configuration = model.config\n"
      ],
      "metadata": {
        "id": "UMwVrVV-MCSK"
      },
      "execution_count": null,
      "outputs": []
    },
    {
      "cell_type": "code",
      "execution_count": null,
      "metadata": {
        "id": "6bsGCdhoYU-v"
      },
      "outputs": [],
      "source": [
        "from transformers import DecisionTransformerModel, DecisionTransformerConfig,"
      ]
    },
    {
      "cell_type": "code",
      "source": [
        "# Initializing a DecisionTransformer configuration\n",
        "configuration = DecisionTransformerConfig()\n",
        "\n",
        "# Initializing a model (with random weights) from the configuration\n",
        "model = DecisionTransformerModel(configuration)\n",
        "\n",
        "# Accessing the model configuration\n",
        "configuration = model.config"
      ],
      "metadata": {
        "id": "8xSEQUKswY8u"
      },
      "execution_count": null,
      "outputs": []
    },
    {
      "cell_type": "code",
      "source": [
        "conda env create -f conda"
      ],
      "metadata": {
        "id": "ZK1KmbMVxAq4"
      },
      "execution_count": null,
      "outputs": []
    },
    {
      "cell_type": "code",
      "source": [
        "from google.colab import drive\n",
        "drive.mount('/content/drive')"
      ],
      "metadata": {
        "id": "JOExA5KlxrKT"
      },
      "execution_count": null,
      "outputs": []
    }
  ]
}